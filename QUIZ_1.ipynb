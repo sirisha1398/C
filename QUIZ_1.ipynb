{
  "nbformat": 4,
  "nbformat_minor": 0,
  "metadata": {
    "colab": {
      "name": "QUIZ 1",
      "provenance": [],
      "collapsed_sections": [],
      "authorship_tag": "ABX9TyOBO8l3I9hXb2P119ImoFoL",
      "include_colab_link": true
    },
    "kernelspec": {
      "name": "python3",
      "display_name": "Python 3"
    },
    "language_info": {
      "name": "python"
    }
  },
  "cells": [
    {
      "cell_type": "markdown",
      "metadata": {
        "id": "view-in-github",
        "colab_type": "text"
      },
      "source": [
        "<a href=\"https://colab.research.google.com/github/sirisha1398/C/blob/main/QUIZ_1.ipynb\" target=\"_parent\"><img src=\"https://colab.research.google.com/assets/colab-badge.svg\" alt=\"Open In Colab\"/></a>"
      ]
    },
    {
      "cell_type": "code",
      "execution_count": 2,
      "metadata": {
        "colab": {
          "base_uri": "https://localhost:8080/"
        },
        "id": "Ta7HOkJxsIJz",
        "outputId": "e6499782-1b7b-4e38-e8cf-a645f5e961c9"
      },
      "outputs": [
        {
          "output_type": "stream",
          "name": "stdout",
          "text": [
            "x = 10\n",
            "y = 5\n"
          ]
        }
      ],
      "source": [
        "##swapping of two numbers:\n",
        "x = 5\n",
        "y = 10\n",
        "\n",
        "x, y = y, x\n",
        "print(\"x =\", x)\n",
        "print(\"y =\", y)"
      ]
    },
    {
      "cell_type": "code",
      "source": [
        "##sqrt of a number:\n",
        "number = 4\n",
        "sqrt = number * 0.5\n",
        "print(sqrt)"
      ],
      "metadata": {
        "colab": {
          "base_uri": "https://localhost:8080/"
        },
        "id": "ZWEbNHjPsqDf",
        "outputId": "6a894382-94ab-4b4e-9f2c-99fa7eef9a51"
      },
      "execution_count": 3,
      "outputs": [
        {
          "output_type": "stream",
          "name": "stdout",
          "text": [
            "2.0\n"
          ]
        }
      ]
    },
    {
      "cell_type": "code",
      "source": [
        "##maximum of three numbers:\n",
        "num1 = float(input(\"Enter first number: \"))\n",
        "num2 = float(input(\"Enter second number: \"))\n",
        "num3 = float(input(\"Enter third number: \"))\n",
        " \n",
        "if (num1 > num2) and (num1 > num3):\n",
        "   largest = num1\n",
        "elif (num2 > num1) and (num2 > num3):\n",
        "   largest = num2\n",
        "else:\n",
        "   largest = num3\n",
        " \n",
        "print(\"The largest number is\",largest)"
      ],
      "metadata": {
        "colab": {
          "base_uri": "https://localhost:8080/"
        },
        "id": "7nroW11hs6Cd",
        "outputId": "7c79b444-3522-440d-f06c-ff2804fcb0c6"
      },
      "execution_count": 4,
      "outputs": [
        {
          "output_type": "stream",
          "name": "stdout",
          "text": [
            "Enter first number: 20\n",
            "Enter second number: 30\n",
            "Enter third number: 22\n",
            "The largest number is 30.0\n"
          ]
        }
      ]
    },
    {
      "cell_type": "code",
      "source": [
        "##add black colour in 4th place:\n",
        "thislist = [\"red\", \"orange\", \"yellow\", \"black\"]\n",
        "print(thislist)"
      ],
      "metadata": {
        "colab": {
          "base_uri": "https://localhost:8080/"
        },
        "id": "jG2tPJ2gxa5w",
        "outputId": "9c588409-eca9-47b1-f160-e85a5411f5d1"
      },
      "execution_count": 5,
      "outputs": [
        {
          "output_type": "stream",
          "name": "stdout",
          "text": [
            "['red', 'orange', 'yellow', 'black']\n"
          ]
        }
      ]
    },
    {
      "cell_type": "code",
      "source": [
        "list = [\"s\", \"i\", \"r\", \"i\", \"s\", \"h\", \"a\" ]\n",
        "print (list)"
      ],
      "metadata": {
        "colab": {
          "base_uri": "https://localhost:8080/"
        },
        "id": "hB90y6WwzT_m",
        "outputId": "70b829e3-6da7-4faf-dbf1-1f5d4ef85328"
      },
      "execution_count": 9,
      "outputs": [
        {
          "output_type": "stream",
          "name": "stdout",
          "text": [
            "['s', 'i', 'r', 'i', 's', 'h', 'a']\n"
          ]
        }
      ]
    },
    {
      "cell_type": "code",
      "source": [
        "print (5+6+8-1-1)"
      ],
      "metadata": {
        "colab": {
          "base_uri": "https://localhost:8080/"
        },
        "id": "Co7Hl7s71yrH",
        "outputId": "bcc22730-83be-4fe2-a33c-20b9344fa662"
      },
      "execution_count": 11,
      "outputs": [
        {
          "output_type": "stream",
          "name": "stdout",
          "text": [
            "17\n"
          ]
        }
      ]
    }
  ]
}